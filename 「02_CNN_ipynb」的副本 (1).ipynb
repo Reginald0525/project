{
  "nbformat": 4,
  "nbformat_minor": 0,
  "metadata": {
    "kernelspec": {
      "display_name": "Python 3",
      "language": "python",
      "name": "python3"
    },
    "language_info": {
      "codemirror_mode": {
        "name": "ipython",
        "version": 3
      },
      "file_extension": ".py",
      "mimetype": "text/x-python",
      "name": "python",
      "nbconvert_exporter": "python",
      "pygments_lexer": "ipython3",
      "version": "3.7.3"
    },
    "colab": {
      "name": "「02 CNN.ipynb」的副本",
      "provenance": [],
      "collapsed_sections": []
    },
    "accelerator": "GPU",
    "widgets": {
      "application/vnd.jupyter.widget-state+json": {
        "2d9a8c4eac38455db3ce9d8fa6d50450": {
          "model_module": "@jupyter-widgets/controls",
          "model_name": "VBoxModel",
          "state": {
            "_view_name": "VBoxView",
            "_dom_classes": [
              "widget-interact"
            ],
            "_model_name": "VBoxModel",
            "_view_module": "@jupyter-widgets/controls",
            "_model_module_version": "1.5.0",
            "_view_count": null,
            "_view_module_version": "1.5.0",
            "box_style": "",
            "layout": "IPY_MODEL_dcdae0066ec947288606fd6dce276d92",
            "_model_module": "@jupyter-widgets/controls",
            "children": [
              "IPY_MODEL_6da747e32e5f474199afea4219a0afc2",
              "IPY_MODEL_9cf281a16d7943a5984a576ae6ccfb4f",
              "IPY_MODEL_f39b6150e8214f859c5e7e2df00fef66"
            ]
          }
        },
        "dcdae0066ec947288606fd6dce276d92": {
          "model_module": "@jupyter-widgets/base",
          "model_name": "LayoutModel",
          "state": {
            "_view_name": "LayoutView",
            "grid_template_rows": null,
            "right": null,
            "justify_content": null,
            "_view_module": "@jupyter-widgets/base",
            "overflow": null,
            "_model_module_version": "1.2.0",
            "_view_count": null,
            "flex_flow": null,
            "width": null,
            "min_width": null,
            "border": null,
            "align_items": null,
            "bottom": null,
            "_model_module": "@jupyter-widgets/base",
            "top": null,
            "grid_column": null,
            "overflow_y": null,
            "overflow_x": null,
            "grid_auto_flow": null,
            "grid_area": null,
            "grid_template_columns": null,
            "flex": null,
            "_model_name": "LayoutModel",
            "justify_items": null,
            "grid_row": null,
            "max_height": null,
            "align_content": null,
            "visibility": null,
            "align_self": null,
            "height": null,
            "min_height": null,
            "padding": null,
            "grid_auto_rows": null,
            "grid_gap": null,
            "max_width": null,
            "order": null,
            "_view_module_version": "1.2.0",
            "grid_template_areas": null,
            "object_position": null,
            "object_fit": null,
            "grid_auto_columns": null,
            "margin": null,
            "display": null,
            "left": null
          }
        },
        "6da747e32e5f474199afea4219a0afc2": {
          "model_module": "@jupyter-widgets/controls",
          "model_name": "IntSliderModel",
          "state": {
            "_view_name": "IntSliderView",
            "style": "IPY_MODEL_5918cebd47984add88078db81cdbbc09",
            "_dom_classes": [],
            "description": "n",
            "step": 1,
            "_model_name": "IntSliderModel",
            "orientation": "horizontal",
            "max": 9999,
            "_view_module": "@jupyter-widgets/controls",
            "_model_module_version": "1.5.0",
            "value": 6923,
            "_view_count": null,
            "disabled": false,
            "_view_module_version": "1.5.0",
            "min": 0,
            "continuous_update": true,
            "readout_format": "d",
            "description_tooltip": null,
            "readout": true,
            "_model_module": "@jupyter-widgets/controls",
            "layout": "IPY_MODEL_f01915a3c428493d8ebe54c9804eea0a"
          }
        },
        "9cf281a16d7943a5984a576ae6ccfb4f": {
          "model_module": "@jupyter-widgets/controls",
          "model_name": "ButtonModel",
          "state": {
            "_view_name": "ButtonView",
            "style": "IPY_MODEL_a9f9983caf1a4662a8040fc7c8c79360",
            "_dom_classes": [],
            "description": "Run Interact",
            "_model_name": "ButtonModel",
            "button_style": "",
            "_view_module": "@jupyter-widgets/controls",
            "_model_module_version": "1.5.0",
            "tooltip": "",
            "_view_count": null,
            "disabled": false,
            "_view_module_version": "1.5.0",
            "layout": "IPY_MODEL_ae6105371ab143fe96556a63baabb4df",
            "_model_module": "@jupyter-widgets/controls",
            "icon": ""
          }
        },
        "f39b6150e8214f859c5e7e2df00fef66": {
          "model_module": "@jupyter-widgets/output",
          "model_name": "OutputModel",
          "state": {
            "_view_name": "OutputView",
            "msg_id": "",
            "_dom_classes": [],
            "_model_name": "OutputModel",
            "outputs": [
              {
                "output_type": "stream",
                "metadata": {
                  "tags": []
                },
                "text": "我可愛的 CNN 預測是 0\n",
                "stream": "stdout"
              },
              {
                "output_type": "display_data",
                "metadata": {
                  "tags": [],
                  "needs_background": "light"
                },
                "image/png": "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\n",
                "text/plain": "<Figure size 432x288 with 1 Axes>"
              }
            ],
            "_view_module": "@jupyter-widgets/output",
            "_model_module_version": "1.0.0",
            "_view_count": null,
            "_view_module_version": "1.0.0",
            "layout": "IPY_MODEL_865388631bd4420da2f687a94a0b4ec7",
            "_model_module": "@jupyter-widgets/output"
          }
        },
        "5918cebd47984add88078db81cdbbc09": {
          "model_module": "@jupyter-widgets/controls",
          "model_name": "SliderStyleModel",
          "state": {
            "_view_name": "StyleView",
            "handle_color": null,
            "_model_name": "SliderStyleModel",
            "description_width": "",
            "_view_module": "@jupyter-widgets/base",
            "_model_module_version": "1.5.0",
            "_view_count": null,
            "_view_module_version": "1.2.0",
            "_model_module": "@jupyter-widgets/controls"
          }
        },
        "f01915a3c428493d8ebe54c9804eea0a": {
          "model_module": "@jupyter-widgets/base",
          "model_name": "LayoutModel",
          "state": {
            "_view_name": "LayoutView",
            "grid_template_rows": null,
            "right": null,
            "justify_content": null,
            "_view_module": "@jupyter-widgets/base",
            "overflow": null,
            "_model_module_version": "1.2.0",
            "_view_count": null,
            "flex_flow": null,
            "width": null,
            "min_width": null,
            "border": null,
            "align_items": null,
            "bottom": null,
            "_model_module": "@jupyter-widgets/base",
            "top": null,
            "grid_column": null,
            "overflow_y": null,
            "overflow_x": null,
            "grid_auto_flow": null,
            "grid_area": null,
            "grid_template_columns": null,
            "flex": null,
            "_model_name": "LayoutModel",
            "justify_items": null,
            "grid_row": null,
            "max_height": null,
            "align_content": null,
            "visibility": null,
            "align_self": null,
            "height": null,
            "min_height": null,
            "padding": null,
            "grid_auto_rows": null,
            "grid_gap": null,
            "max_width": null,
            "order": null,
            "_view_module_version": "1.2.0",
            "grid_template_areas": null,
            "object_position": null,
            "object_fit": null,
            "grid_auto_columns": null,
            "margin": null,
            "display": null,
            "left": null
          }
        },
        "a9f9983caf1a4662a8040fc7c8c79360": {
          "model_module": "@jupyter-widgets/controls",
          "model_name": "ButtonStyleModel",
          "state": {
            "_view_name": "StyleView",
            "_model_name": "ButtonStyleModel",
            "_view_module": "@jupyter-widgets/base",
            "_model_module_version": "1.5.0",
            "_view_count": null,
            "button_color": null,
            "font_weight": "",
            "_view_module_version": "1.2.0",
            "_model_module": "@jupyter-widgets/controls"
          }
        },
        "ae6105371ab143fe96556a63baabb4df": {
          "model_module": "@jupyter-widgets/base",
          "model_name": "LayoutModel",
          "state": {
            "_view_name": "LayoutView",
            "grid_template_rows": null,
            "right": null,
            "justify_content": null,
            "_view_module": "@jupyter-widgets/base",
            "overflow": null,
            "_model_module_version": "1.2.0",
            "_view_count": null,
            "flex_flow": null,
            "width": null,
            "min_width": null,
            "border": null,
            "align_items": null,
            "bottom": null,
            "_model_module": "@jupyter-widgets/base",
            "top": null,
            "grid_column": null,
            "overflow_y": null,
            "overflow_x": null,
            "grid_auto_flow": null,
            "grid_area": null,
            "grid_template_columns": null,
            "flex": null,
            "_model_name": "LayoutModel",
            "justify_items": null,
            "grid_row": null,
            "max_height": null,
            "align_content": null,
            "visibility": null,
            "align_self": null,
            "height": null,
            "min_height": null,
            "padding": null,
            "grid_auto_rows": null,
            "grid_gap": null,
            "max_width": null,
            "order": null,
            "_view_module_version": "1.2.0",
            "grid_template_areas": null,
            "object_position": null,
            "object_fit": null,
            "grid_auto_columns": null,
            "margin": null,
            "display": null,
            "left": null
          }
        },
        "865388631bd4420da2f687a94a0b4ec7": {
          "model_module": "@jupyter-widgets/base",
          "model_name": "LayoutModel",
          "state": {
            "_view_name": "LayoutView",
            "grid_template_rows": null,
            "right": null,
            "justify_content": null,
            "_view_module": "@jupyter-widgets/base",
            "overflow": null,
            "_model_module_version": "1.2.0",
            "_view_count": null,
            "flex_flow": null,
            "width": null,
            "min_width": null,
            "border": null,
            "align_items": null,
            "bottom": null,
            "_model_module": "@jupyter-widgets/base",
            "top": null,
            "grid_column": null,
            "overflow_y": null,
            "overflow_x": null,
            "grid_auto_flow": null,
            "grid_area": null,
            "grid_template_columns": null,
            "flex": null,
            "_model_name": "LayoutModel",
            "justify_items": null,
            "grid_row": null,
            "max_height": null,
            "align_content": null,
            "visibility": null,
            "align_self": null,
            "height": null,
            "min_height": null,
            "padding": null,
            "grid_auto_rows": null,
            "grid_gap": null,
            "max_width": null,
            "order": null,
            "_view_module_version": "1.2.0",
            "grid_template_areas": null,
            "object_position": null,
            "object_fit": null,
            "grid_auto_columns": null,
            "margin": null,
            "display": null,
            "left": null
          }
        }
      }
    }
  },
  "cells": [
    {
      "cell_type": "code",
      "metadata": {
        "id": "3bxO_c6q-GJt"
      },
      "source": [
        "%matplotlib inline\n",
        "\n",
        "import numpy as np\n",
        "import matplotlib.pyplot as plt\n",
        "import pandas as pd"
      ],
      "execution_count": 24,
      "outputs": []
    },
    {
      "cell_type": "code",
      "metadata": {
        "id": "g-TqD271-GJx"
      },
      "source": [
        "from tensorflow.keras.utils import to_categorical\n",
        "from tensorflow.keras.models import Sequential\n",
        "from tensorflow.keras.layers import Conv2D, MaxPooling2D\n",
        "from tensorflow.keras.layers import Dense, Flatten\n",
        "from tensorflow.keras.optimizers import SGD"
      ],
      "execution_count": 25,
      "outputs": []
    },
    {
      "cell_type": "markdown",
      "metadata": {
        "id": "ZjoC9Sju-GJ0"
      },
      "source": [
        "### 1. 讀入 MNSIT 數據集"
      ]
    },
    {
      "cell_type": "code",
      "metadata": {
        "id": "_iLwHWRZ-GJ1"
      },
      "source": [
        "from tensorflow.keras.datasets import mnist"
      ],
      "execution_count": 26,
      "outputs": []
    },
    {
      "cell_type": "code",
      "metadata": {
        "id": "ds2VU-AT-GJ3"
      },
      "source": [
        "(x_train, y_train), (x_test, y_test) = mnist.load_data()"
      ],
      "execution_count": 27,
      "outputs": []
    },
    {
      "cell_type": "markdown",
      "metadata": {
        "id": "oa346qsl-GJ6"
      },
      "source": [
        "### 2. 資料整理"
      ]
    },
    {
      "cell_type": "markdown",
      "metadata": {
        "id": "__BP1e_I-GJ6"
      },
      "source": [
        "### Channel\n",
        "\n",
        "CNN 要注意一張圖有多少個 channel, 開始我們因為只有灰階, 所以只有一個 channel。因此我們要轉一下我們的資料格式:(RGB則3channel)\n",
        "\n",
        "    (28,28) --> (28, 28, 1)"
      ]
    },
    {
      "cell_type": "code",
      "metadata": {
        "id": "JE73JwZy-GJ7"
      },
      "source": [
        "x_train = x_train.reshape(60000, 28, 28, 1) / 255"
      ],
      "execution_count": 28,
      "outputs": []
    },
    {
      "cell_type": "code",
      "metadata": {
        "id": "4nkf46l3-GJ9"
      },
      "source": [
        "\n",
        "x_test = x_test.reshape(10000, 28, 28, 1) / 255"
      ],
      "execution_count": 29,
      "outputs": []
    },
    {
      "cell_type": "code",
      "metadata": {
        "id": "QqujfhrC-GKA"
      },
      "source": [
        "y_train = to_categorical(y_train, 10)\n",
        "y_test = to_categorical(y_test, 10)"
      ],
      "execution_count": 30,
      "outputs": []
    },
    {
      "cell_type": "markdown",
      "metadata": {
        "id": "TDAapskA-GKD"
      },
      "source": [
        "### 3. step 1: 打造函數學習機 (CNN)"
      ]
    },
    {
      "cell_type": "code",
      "metadata": {
        "id": "47CQV_MZ-GKD"
      },
      "source": [
        "model = Sequential()"
      ],
      "execution_count": 31,
      "outputs": []
    },
    {
      "cell_type": "code",
      "metadata": {
        "id": "Y3EYCF5a-GKF"
      },
      "source": [
        "model.add(Conv2D(8, (3,3), padding='same',\n",
        "                input_shape=(28,28,1),\n",
        "                activation='relu'))"
      ],
      "execution_count": 32,
      "outputs": []
    },
    {
      "cell_type": "code",
      "metadata": {
        "id": "pQgY7byv-GKI"
      },
      "source": [
        "model.add(MaxPooling2D(pool_size=(2,2)))"
      ],
      "execution_count": 33,
      "outputs": []
    },
    {
      "cell_type": "code",
      "metadata": {
        "id": "LQwcXQ-q-GKK"
      },
      "source": [
        "model.add(Conv2D(16, (3,3), padding='same',\n",
        "                activation='relu'))"
      ],
      "execution_count": 34,
      "outputs": []
    },
    {
      "cell_type": "code",
      "metadata": {
        "id": "wa9vYOy3-GKN"
      },
      "source": [
        "model.add(MaxPooling2D(pool_size=(2,2)))"
      ],
      "execution_count": 35,
      "outputs": []
    },
    {
      "cell_type": "code",
      "metadata": {
        "id": "xNWnxZ_G-GKP"
      },
      "source": [
        "model.add(Conv2D(32, (3,3), padding='same',\n",
        "                activation='relu'))"
      ],
      "execution_count": 36,
      "outputs": []
    },
    {
      "cell_type": "code",
      "metadata": {
        "id": "mDO7QUZD-GKR"
      },
      "source": [
        "model.add(MaxPooling2D(pool_size=(2,2)))"
      ],
      "execution_count": 37,
      "outputs": []
    },
    {
      "cell_type": "code",
      "metadata": {
        "id": "gmi2ZqAT-GKT"
      },
      "source": [
        "model.add(Flatten())"
      ],
      "execution_count": 38,
      "outputs": []
    },
    {
      "cell_type": "code",
      "metadata": {
        "id": "oMI20ncU-GKW"
      },
      "source": [
        "model.add(Dense(20, activation='relu'))\n",
        "＃變成神經元"
      ],
      "execution_count": 39,
      "outputs": []
    },
    {
      "cell_type": "code",
      "metadata": {
        "id": "M5YWibGD-GKY"
      },
      "source": [
        "model.add(Dense(10, activation='softmax'))"
      ],
      "execution_count": 40,
      "outputs": []
    },
    {
      "cell_type": "markdown",
      "metadata": {
        "id": "efFWl0JL-GKa"
      },
      "source": [
        "#### 看一下我們的神經網路"
      ]
    },
    {
      "cell_type": "code",
      "metadata": {
        "id": "K3LEW8KY-GKb",
        "outputId": "dfe83d3b-eead-4c08-ee56-dea34ea87f38",
        "colab": {
          "base_uri": "https://localhost:8080/"
        }
      },
      "source": [
        "model.summary()"
      ],
      "execution_count": 41,
      "outputs": [
        {
          "output_type": "stream",
          "text": [
            "Model: \"sequential_1\"\n",
            "_________________________________________________________________\n",
            "Layer (type)                 Output Shape              Param #   \n",
            "=================================================================\n",
            "conv2d_5 (Conv2D)            (None, 28, 28, 8)         80        \n",
            "_________________________________________________________________\n",
            "max_pooling2d_4 (MaxPooling2 (None, 14, 14, 8)         0         \n",
            "_________________________________________________________________\n",
            "conv2d_6 (Conv2D)            (None, 14, 14, 16)        1168      \n",
            "_________________________________________________________________\n",
            "max_pooling2d_5 (MaxPooling2 (None, 7, 7, 16)          0         \n",
            "_________________________________________________________________\n",
            "conv2d_7 (Conv2D)            (None, 7, 7, 32)          4640      \n",
            "_________________________________________________________________\n",
            "max_pooling2d_6 (MaxPooling2 (None, 3, 3, 32)          0         \n",
            "_________________________________________________________________\n",
            "flatten_1 (Flatten)          (None, 288)               0         \n",
            "_________________________________________________________________\n",
            "dense_2 (Dense)              (None, 20)                5780      \n",
            "_________________________________________________________________\n",
            "dense_3 (Dense)              (None, 10)                210       \n",
            "=================================================================\n",
            "Total params: 11,878\n",
            "Trainable params: 11,878\n",
            "Non-trainable params: 0\n",
            "_________________________________________________________________\n"
          ],
          "name": "stdout"
        }
      ]
    },
    {
      "cell_type": "markdown",
      "metadata": {
        "id": "L4mv-N_y-GKe"
      },
      "source": [
        "#### 組裝"
      ]
    },
    {
      "cell_type": "code",
      "metadata": {
        "id": "qbyISRO3-GKf"
      },
      "source": [
        "model.compile(loss='mse', optimizer=SGD(lr=0.087),\n",
        "             metrics=['accuracy'])"
      ],
      "execution_count": 42,
      "outputs": []
    },
    {
      "cell_type": "code",
      "metadata": {
        "id": "XyZUlpecDn6a"
      },
      "source": [
        ""
      ],
      "execution_count": null,
      "outputs": []
    },
    {
      "cell_type": "markdown",
      "metadata": {
        "id": "yFNLWCj7-GKh"
      },
      "source": [
        "### 4. step 2: fit"
      ]
    },
    {
      "cell_type": "code",
      "metadata": {
        "scrolled": true,
        "id": "TiaLhIHc-GKh",
        "outputId": "390b3b7b-389f-4bfe-a068-26e39088f8e7",
        "colab": {
          "base_uri": "https://localhost:8080/"
        }
      },
      "source": [
        "model.fit(x_train, y_train, batch_size=128, epochs=12)\n",
        "#epoch為訓練幾次，accuracy盡量大於95%"
      ],
      "execution_count": 43,
      "outputs": [
        {
          "output_type": "stream",
          "text": [
            "Epoch 1/12\n",
            "469/469 [==============================] - 2s 3ms/step - loss: 0.0899 - accuracy: 0.1113\n",
            "Epoch 2/12\n",
            "469/469 [==============================] - 1s 3ms/step - loss: 0.0897 - accuracy: 0.1405\n",
            "Epoch 3/12\n",
            "469/469 [==============================] - 1s 3ms/step - loss: 0.0894 - accuracy: 0.1760\n",
            "Epoch 4/12\n",
            "469/469 [==============================] - 1s 3ms/step - loss: 0.0889 - accuracy: 0.2208\n",
            "Epoch 5/12\n",
            "469/469 [==============================] - 1s 3ms/step - loss: 0.0878 - accuracy: 0.2876\n",
            "Epoch 6/12\n",
            "469/469 [==============================] - 1s 3ms/step - loss: 0.0844 - accuracy: 0.3684\n",
            "Epoch 7/12\n",
            "469/469 [==============================] - 1s 3ms/step - loss: 0.0678 - accuracy: 0.5260\n",
            "Epoch 8/12\n",
            "469/469 [==============================] - 1s 3ms/step - loss: 0.0324 - accuracy: 0.8017\n",
            "Epoch 9/12\n",
            "469/469 [==============================] - 1s 3ms/step - loss: 0.0181 - accuracy: 0.8863\n",
            "Epoch 10/12\n",
            "469/469 [==============================] - 1s 3ms/step - loss: 0.0142 - accuracy: 0.9083\n",
            "Epoch 11/12\n",
            "469/469 [==============================] - 1s 3ms/step - loss: 0.0122 - accuracy: 0.9204\n",
            "Epoch 12/12\n",
            "469/469 [==============================] - 1s 3ms/step - loss: 0.0110 - accuracy: 0.9290\n"
          ],
          "name": "stdout"
        },
        {
          "output_type": "execute_result",
          "data": {
            "text/plain": [
              "<tensorflow.python.keras.callbacks.History at 0x7f1b5ee61c88>"
            ]
          },
          "metadata": {
            "tags": []
          },
          "execution_count": 43
        }
      ]
    },
    {
      "cell_type": "markdown",
      "metadata": {
        "id": "Cm6iGGQy-GKk"
      },
      "source": [
        "### Step 3. 預測"
      ]
    },
    {
      "cell_type": "code",
      "metadata": {
        "id": "xnFF-UMu-GKk",
        "outputId": "ad19c606-43a6-4bb4-c9c1-a4e144714f87",
        "colab": {
          "base_uri": "https://localhost:8080/"
        }
      },
      "source": [
        "result = model.predict_classes(x_test)"
      ],
      "execution_count": 44,
      "outputs": [
        {
          "output_type": "stream",
          "text": [
            "WARNING:tensorflow:From <ipython-input-44-63af5bb2f9b6>:1: Sequential.predict_classes (from tensorflow.python.keras.engine.sequential) is deprecated and will be removed after 2021-01-01.\n",
            "Instructions for updating:\n",
            "Please use instead:* `np.argmax(model.predict(x), axis=-1)`,   if your model does multi-class classification   (e.g. if it uses a `softmax` last-layer activation).* `(model.predict(x) > 0.5).astype(\"int32\")`,   if your model does binary classification   (e.g. if it uses a `sigmoid` last-layer activation).\n"
          ],
          "name": "stdout"
        }
      ]
    },
    {
      "cell_type": "markdown",
      "metadata": {
        "id": "SJ2EbmHh-GKm"
      },
      "source": [
        "### 看看測試資料表現如何"
      ]
    },
    {
      "cell_type": "code",
      "metadata": {
        "id": "a6gMsPbc-GKm",
        "outputId": "28e0ecc1-aa96-4771-c7c7-8edaa266f52c",
        "colab": {
          "base_uri": "https://localhost:8080/"
        }
      },
      "source": [
        "loss, acc = model.evaluate(x_test, y_test)"
      ],
      "execution_count": 45,
      "outputs": [
        {
          "output_type": "stream",
          "text": [
            "313/313 [==============================] - 1s 2ms/step - loss: 0.0101 - accuracy: 0.9347\n"
          ],
          "name": "stdout"
        }
      ]
    },
    {
      "cell_type": "code",
      "metadata": {
        "id": "NbOl9YGO-GKq",
        "outputId": "5c399f7e-d305-49fb-cbe4-d562d67c83ec",
        "colab": {
          "base_uri": "https://localhost:8080/"
        }
      },
      "source": [
        "print(f'測試資料的正確率為 {acc*100:.2f}%')"
      ],
      "execution_count": 46,
      "outputs": [
        {
          "output_type": "stream",
          "text": [
            "測試資料的正確率為 93.47%\n"
          ],
          "name": "stdout"
        }
      ]
    },
    {
      "cell_type": "code",
      "metadata": {
        "id": "ahNmxsO_-GKt"
      },
      "source": [
        "def my_predict(n):\n",
        "    print('我可愛的 CNN 預測是', result[n])\n",
        "    X = x_test[n].reshape(28,28)\n",
        "    plt.imshow(X, cmap='Greys')"
      ],
      "execution_count": 47,
      "outputs": []
    },
    {
      "cell_type": "code",
      "metadata": {
        "id": "ipHCB4f3-GKw"
      },
      "source": [
        "from ipywidgets import interact_manual"
      ],
      "execution_count": 48,
      "outputs": []
    },
    {
      "cell_type": "code",
      "metadata": {
        "id": "mOqnkn2P-GKy",
        "outputId": "e8097b8a-5a42-4aae-a66f-add16b87be3e",
        "colab": {
          "base_uri": "https://localhost:8080/",
          "height": 346,
          "referenced_widgets": [
            "2d9a8c4eac38455db3ce9d8fa6d50450",
            "dcdae0066ec947288606fd6dce276d92",
            "6da747e32e5f474199afea4219a0afc2",
            "9cf281a16d7943a5984a576ae6ccfb4f",
            "f39b6150e8214f859c5e7e2df00fef66",
            "5918cebd47984add88078db81cdbbc09",
            "f01915a3c428493d8ebe54c9804eea0a",
            "a9f9983caf1a4662a8040fc7c8c79360",
            "ae6105371ab143fe96556a63baabb4df",
            "865388631bd4420da2f687a94a0b4ec7"
          ]
        }
      },
      "source": [
        "interact_manual(my_predict, n=(0, 9999));"
      ],
      "execution_count": 49,
      "outputs": [
        {
          "output_type": "display_data",
          "data": {
            "application/vnd.jupyter.widget-view+json": {
              "model_id": "2d9a8c4eac38455db3ce9d8fa6d50450",
              "version_minor": 0,
              "version_major": 2
            },
            "text/plain": [
              "interactive(children=(IntSlider(value=4999, description='n', max=9999), Button(description='Run Interact', sty…"
            ]
          },
          "metadata": {
            "tags": []
          }
        }
      ]
    },
    {
      "cell_type": "markdown",
      "metadata": {
        "id": "4EfRL-7_-GK0"
      },
      "source": [
        "### 把我們的 model 存起來"
      ]
    },
    {
      "cell_type": "code",
      "metadata": {
        "id": "Ipz1yIk3-GK1"
      },
      "source": [
        "model.save('myCNNmodel.h5')"
      ],
      "execution_count": 50,
      "outputs": []
    }
  ]
}